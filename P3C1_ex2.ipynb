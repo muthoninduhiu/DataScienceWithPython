{
  "cells": [
    {
      "cell_type": "markdown",
      "metadata": {
        "id": "TpUSWxJ7Bnxq"
      },
      "source": [
        "![openclassrooms](https://s3.eu-west-1.amazonaws.com/course.oc-static.com/courses/6204541/1+HnqdJ-5ofxiPP9HIxdNdpw.jpeg)\n",
        "\n",
        "# Learn Python Basics for Data Analysis\n",
        "\n",
        "## Create Arrays to Store Your Variables\n",
        "\n",
        "<br><br>\n",
        "\n",
        "**Adding Items to a List**\n",
        "\n",
        "Replace the **??** with the appropriate code to create an empty list:\n"
      ]
    },
    {
      "cell_type": "code",
      "execution_count": 11,
      "metadata": {
        "id": "x5JtefkEBnxt"
      },
      "outputs": [],
      "source": [
        "guests = []"
      ]
    },
    {
      "cell_type": "markdown",
      "metadata": {
        "id": "IzNAg4MMBnxu"
      },
      "source": [
        "Add three guests to the list: Joey, Martin, and Mary"
      ]
    },
    {
      "cell_type": "code",
      "execution_count": 12,
      "metadata": {
        "id": "GP_ddsKQBnxu"
      },
      "outputs": [],
      "source": [
        "guests.append('Joey')\n",
        "guests.append('Martin')\n",
        "guests.append('Mary')"
      ]
    },
    {
      "cell_type": "markdown",
      "metadata": {
        "id": "eIisJcd1Bnxv"
      },
      "source": [
        "Print the size of the list:"
      ]
    },
    {
      "cell_type": "code",
      "execution_count": 13,
      "metadata": {
        "id": "XjdRwB1pBnxv",
        "colab": {
          "base_uri": "https://localhost:8080/"
        },
        "outputId": "56d5eb1a-0979-4cbd-f97e-07ca3f678f17"
      },
      "outputs": [
        {
          "output_type": "stream",
          "name": "stdout",
          "text": [
            "3\n"
          ]
        }
      ],
      "source": [
        "print(len(guests))"
      ]
    },
    {
      "cell_type": "markdown",
      "metadata": {
        "id": "zkTnRS0ZBnxv"
      },
      "source": [
        "Replace Martin with John in the list:"
      ]
    },
    {
      "cell_type": "code",
      "execution_count": 14,
      "metadata": {
        "id": "Q_gnebyKBnxw",
        "colab": {
          "base_uri": "https://localhost:8080/"
        },
        "outputId": "a36eb68f-f48c-4d5e-f824-cd805be595f8"
      },
      "outputs": [
        {
          "output_type": "stream",
          "name": "stdout",
          "text": [
            "['Joey', 'John', 'Mary']\n"
          ]
        }
      ],
      "source": [
        "guests[1] = 'John'\n",
        "print(guests)"
      ]
    },
    {
      "cell_type": "markdown",
      "metadata": {
        "id": "jJJAdFUgBnxw"
      },
      "source": [
        "Delete Joey from the list:"
      ]
    },
    {
      "cell_type": "code",
      "execution_count": 15,
      "metadata": {
        "id": "294kCaDGBnxx",
        "colab": {
          "base_uri": "https://localhost:8080/"
        },
        "outputId": "23cb31e7-a811-48bb-b49a-571639e2dcce"
      },
      "outputs": [
        {
          "output_type": "stream",
          "name": "stdout",
          "text": [
            "['John', 'Mary']\n"
          ]
        }
      ],
      "source": [
        "guests.remove('Joey')\n",
        "print(guests)"
      ]
    },
    {
      "cell_type": "markdown",
      "metadata": {
        "id": "6gwRXgVWBnxx"
      },
      "source": [
        "Print the contents of the list:"
      ]
    },
    {
      "cell_type": "code",
      "execution_count": 16,
      "metadata": {
        "id": "_QJky18LBnxy",
        "colab": {
          "base_uri": "https://localhost:8080/"
        },
        "outputId": "1e14add7-6d4f-4ffb-86bd-ed2cbdf186dc"
      },
      "outputs": [
        {
          "output_type": "stream",
          "name": "stdout",
          "text": [
            "John\n",
            "Mary\n"
          ]
        }
      ],
      "source": [
        "for guest in guests:\n",
        "    print(guest)"
      ]
    }
  ],
  "metadata": {
    "colab": {
      "name": "P3C1 ex2.ipynb",
      "provenance": []
    },
    "kernelspec": {
      "display_name": "Python 3.9.7 ('base')",
      "language": "python",
      "name": "python3"
    },
    "language_info": {
      "codemirror_mode": {
        "name": "ipython",
        "version": 3
      },
      "file_extension": ".py",
      "mimetype": "text/x-python",
      "name": "python",
      "nbconvert_exporter": "python",
      "pygments_lexer": "ipython3",
      "version": "3.9.7"
    },
    "vscode": {
      "interpreter": {
        "hash": "0d5b2adc70bf0954b7415f3bc8543415bd6d361c5e0c2c03226caf4972d8a62d"
      }
    }
  },
  "nbformat": 4,
  "nbformat_minor": 0
}