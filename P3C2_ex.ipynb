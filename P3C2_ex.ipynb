{
  "cells": [
    {
      "cell_type": "markdown",
      "metadata": {
        "id": "4lgWbNAoZ70g"
      },
      "source": [
        "![openclassrooms](https://s3.eu-west-1.amazonaws.com/course.oc-static.com/courses/6204541/1+HnqdJ-5ofxiPP9HIxdNdpw.jpeg)\n",
        "\n",
        "# Learn Python Basics for Data Analysis\n",
        "\n",
        "## Control Your Code with Conditional Structures\n",
        "\n",
        "<br><br>\n",
        "\n",
        "**Manage a Chain of Conditions**\n",
        "\n",
        "Run the following code:"
      ]
    },
    {
      "cell_type": "code",
      "execution_count": 1,
      "metadata": {
        "id": "GgFeLfC-Z70m",
        "outputId": "252dc1c8-478f-41b7-d00a-0faafe74c5d8",
        "colab": {
          "base_uri": "https://localhost:8080/"
        }
      },
      "outputs": [
        {
          "output_type": "stream",
          "name": "stdout",
          "text": [
            "c is between a and b\n"
          ]
        }
      ],
      "source": [
        "a = 5\n",
        "b = 10\n",
        "c = 7\n",
        "\n",
        "if c < a :\n",
        "    print(\"c is smaller than a\")\n",
        "    \n",
        "if c > b :\n",
        "    print(\"c is greater than b\")\n",
        "    \n",
        "if c > a and c < b:\n",
        "    print(\"c is between a and b\")\n"
      ]
    },
    {
      "cell_type": "markdown",
      "metadata": {
        "id": "qmFqllZbZ70q"
      },
      "source": [
        "Now take the code above, replacing the three instances of `if` with a more suitable `if` / `elif` / `else` structure. The final display must be identical!\n"
      ]
    },
    {
      "cell_type": "code",
      "execution_count": 2,
      "metadata": {
        "id": "WFDo_oN_Z70s",
        "outputId": "fe1aa2c5-fef9-476a-b528-e45a6626cde5",
        "colab": {
          "base_uri": "https://localhost:8080/"
        }
      },
      "outputs": [
        {
          "output_type": "stream",
          "name": "stdout",
          "text": [
            "c is between a and b\n"
          ]
        }
      ],
      "source": [
        "if c < a:\n",
        "  print('c is samller than a')\n",
        "elif c > b:\n",
        "  print('c is greater than b')\n",
        "elif c > a and c < b:\n",
        "  print('c is between a and b')\n",
        "else:\n",
        "  print('none')"
      ]
    },
    {
      "cell_type": "markdown",
      "source": [
        "Use if statement to ask user for a name"
      ],
      "metadata": {
        "id": "H9W4kZDOvAD2"
      }
    },
    {
      "cell_type": "code",
      "source": [
        "name  = input('Babe what is your name?')\n",
        "if(len(name)!=0):\n",
        "    print('Heyy {}'.format(name))\n",
        "else:\n",
        "    print(\"Hey! you need to input something!\")"
      ],
      "metadata": {
        "id": "vMC3QSicvJP1",
        "outputId": "a2da22b4-c188-441f-b2bc-4fd76fcb3d60",
        "colab": {
          "base_uri": "https://localhost:8080/"
        }
      },
      "execution_count": 3,
      "outputs": [
        {
          "output_type": "stream",
          "name": "stdout",
          "text": [
            "Babe what is your name?Nduhiu\n",
            "Heyy Nduhiu\n"
          ]
        }
      ]
    }
  ],
  "metadata": {
    "colab": {
      "name": "P3C2 ex.ipynb",
      "provenance": []
    },
    "kernelspec": {
      "display_name": "Python 3.9.7 ('base')",
      "language": "python",
      "name": "python3"
    },
    "language_info": {
      "codemirror_mode": {
        "name": "ipython",
        "version": 3
      },
      "file_extension": ".py",
      "mimetype": "text/x-python",
      "name": "python",
      "nbconvert_exporter": "python",
      "pygments_lexer": "ipython3",
      "version": "3.9.7"
    },
    "vscode": {
      "interpreter": {
        "hash": "0d5b2adc70bf0954b7415f3bc8543415bd6d361c5e0c2c03226caf4972d8a62d"
      }
    }
  },
  "nbformat": 4,
  "nbformat_minor": 0
}