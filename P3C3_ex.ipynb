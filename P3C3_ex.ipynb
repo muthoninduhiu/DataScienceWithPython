{
  "cells": [
    {
      "cell_type": "markdown",
      "metadata": {
        "id": "PUIweiGe9fjt"
      },
      "source": [
        "![openclassrooms](https://s3.eu-west-1.amazonaws.com/course.oc-static.com/courses/6204541/1+HnqdJ-5ofxiPP9HIxdNdpw.jpeg)\n",
        "\n",
        "# Learn Python Basics for Data Analysis\n",
        "\n",
        "## Choose the Appropriate Loop\n",
        "\n",
        "<br><br>\n",
        "\n",
        "**Writing FOR and WHILE loops**\n",
        "\n",
        "Create a `for` loop that prints: \"OpenClassrooms is really great!\" five times"
      ]
    },
    {
      "cell_type": "code",
      "execution_count": 1,
      "metadata": {
        "id": "xElc-kOx9fjv",
        "outputId": "c77a1d34-58fa-4d61-a99a-2cac6a9a593b",
        "colab": {
          "base_uri": "https://localhost:8080/"
        }
      },
      "outputs": [
        {
          "output_type": "stream",
          "name": "stdout",
          "text": [
            "OpenClassrooms is really great!\n",
            "OpenClassrooms is really great!\n",
            "OpenClassrooms is really great!\n",
            "OpenClassrooms is really great!\n",
            "OpenClassrooms is really great!\n"
          ]
        }
      ],
      "source": [
        "for x in range(5):\n",
        "  print(\"OpenClassrooms is really great!\" )"
      ]
    },
    {
      "cell_type": "markdown",
      "metadata": {
        "id": "O0CYek3D9fjw"
      },
      "source": [
        "Change your `for` loop to a `while` loop:"
      ]
    },
    {
      "cell_type": "code",
      "execution_count": 3,
      "metadata": {
        "id": "poigJ0nT9fjx",
        "outputId": "1d24ca53-b236-4a82-d28e-907099564f2d",
        "colab": {
          "base_uri": "https://localhost:8080/"
        }
      },
      "outputs": [
        {
          "output_type": "stream",
          "name": "stdout",
          "text": [
            "OpenClassrooms is really great!\n",
            "OpenClassrooms is really great!\n",
            "OpenClassrooms is really great!\n",
            "OpenClassrooms is really great!\n",
            "OpenClassrooms is really great!\n",
            "I am tired!\n"
          ]
        }
      ],
      "source": [
        "x = 0\n",
        "while x < 5:\n",
        "  x += 1\n",
        "  print(\"OpenClassrooms is really great!\" )\n",
        "print(\"I am tired!\")"
      ]
    }
  ],
  "metadata": {
    "colab": {
      "name": "P3C3 ex.ipynb",
      "provenance": []
    },
    "kernelspec": {
      "display_name": "Python 3.9.7 ('base')",
      "language": "python",
      "name": "python3"
    },
    "language_info": {
      "codemirror_mode": {
        "name": "ipython",
        "version": 3
      },
      "file_extension": ".py",
      "mimetype": "text/x-python",
      "name": "python",
      "nbconvert_exporter": "python",
      "pygments_lexer": "ipython3",
      "version": "3.9.7"
    },
    "vscode": {
      "interpreter": {
        "hash": "0d5b2adc70bf0954b7415f3bc8543415bd6d361c5e0c2c03226caf4972d8a62d"
      }
    }
  },
  "nbformat": 4,
  "nbformat_minor": 0
}